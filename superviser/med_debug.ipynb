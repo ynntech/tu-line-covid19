{
 "cells": [
  {
   "cell_type": "code",
   "execution_count": 1,
   "metadata": {},
   "outputs": [],
   "source": [
    "import os,datetime,re\n",
    "from utils import News, Site"
   ]
  },
  {
   "cell_type": "code",
   "execution_count": 20,
   "metadata": {},
   "outputs": [],
   "source": [
    "\n",
    "### 医学部・医学系研究科 ###\n",
    "class MedNews(News):\n",
    "    def __init__(self, tag, base_url):\n",
    "        '''\n",
    "        <parameter>\n",
    "        tag (bs4.element.Tag) : single topic object\n",
    "        '''\n",
    "        self.tag = tag\n",
    "        self.base_url = base_url\n",
    "        self.summary()\n",
    "\n",
    "    # this should be overrided\n",
    "    # because the format of news will be different from the others\n",
    "    def summary(self):\n",
    "        if self.tag.text[-1] == \"）\":\n",
    "            time = self.tag.text.split(\"（\")[-1].split(\"）\")[0]\n",
    "            contents = self.tag.text[:(-2 - len(time))]\n",
    "        elif self.tag.text == \"新型コロナウイルス感染症に関する本研究科の対応について-医学系研究科長メッセージ\":\n",
    "            time = \"4/10\"\n",
    "            contents = \"新型コロナウイルス感染症に関する本研究科の対応について-医学系研究科長メッセージ\"\n",
    "        elif self.tag.text == \"(大学院生）【重要】今学期の授業実施方法及び履修登録期間の延長について\":\n",
    "            time = \"5/1\"\n",
    "            contents =\"(大学院生）【重要】今学期の授業実施方法及び履修登録期間の延長について\"\n",
    "        else:\n",
    "            print(\"=====\")\n",
    "            print(self.tag.text)\n",
    "            time = re.findall(r\"\\d+/\\d+\", self.tag.text)[-1]\n",
    "            contents = self.tag.text[:(-len(time))]\n",
    "        href = \"#\" + self.tag.find(\"a\").get(\"id\")\n",
    "        href = self.base_url + href\n",
    "        self.content = f\"《{time}》\\n{contents}\\n{href}\"\n",
    "        self.time = self.timeobj(time)\n",
    "\n",
    "    def timeobj(self, timestr=\"\"):\n",
    "        year = \"2020/\"\n",
    "        tmp = datetime.datetime.strptime(year + timestr, \"%Y/%m/%d\")\n",
    "        return datetime.date(tmp.year, tmp.month, tmp.day)\n",
    "\n",
    "\n",
    "class Med(Site):\n",
    "    path = os.path.join(\"..\", os.path.join(\"sites_db\", \"med.pickle\"))\n",
    "    url = \"https://www.med.tohoku.ac.jp/admissions/2003announce/index.html\"\n",
    "    majors = [\"医学部\", \"医学系研究科\"]\n",
    "\n",
    "    def get(self):\n",
    "        soup = self.request()\n",
    "        # 以降、サイトに合わせて書き直す必要あり\n",
    "        info_list = soup.find(\n",
    "            \"div\", class_=\"wrap_contarea sp_contarea area_u-layer_cont\").find_all(\"h4\")[:-1]\n",
    "        print(info_list)\n",
    "        info_list = [MedNews(info, self.url) for info in info_list]\n",
    "        return self.dic(info_list)\n",
    "\n",
    "\n"
   ]
  },
  {
   "cell_type": "code",
   "execution_count": 21,
   "metadata": {},
   "outputs": [
    {
     "name": "stdout",
     "output_type": "stream",
     "text": [
      "データベースを読み込み中...\n",
      "Done!\n"
     ]
    }
   ],
   "source": [
    "med = Med()"
   ]
  },
  {
   "cell_type": "code",
   "execution_count": 22,
   "metadata": {},
   "outputs": [
    {
     "data": {
      "text/plain": [
       "defaultdict(list,\n",
       "            {datetime.date(2020, 4, 10): ['《4/10》\\n新型コロナウイルス感染症に関する本研究科の対応について-医学系研究科長メッセージ\\nhttps://www.med.tohoku.ac.jp/admissions/2003announce/index.html#dm',\n",
       "              '《4/10》\\n医学部1号館1階 ・2階等への立ち入り制限について\\nhttps://www.med.tohoku.ac.jp/admissions/2003announce/index.html#nt2',\n",
       "              '《4/10》\\n教務課、医学教育推進センター、国際交流支援室の窓口の閉鎖について\\nhttps://www.med.tohoku.ac.jp/admissions/2003announce/index.html#nt'],\n",
       "             datetime.date(2020, 4, 8): ['《4/8》\\n（学部新入生）保健学科新入生オリエンテーションのオンライン配信の実施について\\nhttps://www.med.tohoku.ac.jp/admissions/2003announce/index.html#hori2',\n",
       "              '《4/8》\\n（学部新入生）医学科新入生オリエンテーションのオンライン配信の実施について\\nhttps://www.med.tohoku.ac.jp/admissions/2003announce/index.html#mori2'],\n",
       "             datetime.date(2020, 4, 6): ['《4/6》\\n（学部生）保健学科在学生の皆様へ（進級オリエンテーションのオンラインでの実施）\\nhttps://www.med.tohoku.ac.jp/admissions/2003announce/index.html#cst3'],\n",
       "             datetime.date(2020, 4, 3): ['《4/3》\\n（大学院生）医学系研究科の新学期授業開始日変更について\\nhttps://www.med.tohoku.ac.jp/admissions/2003announce/index.html#gnsc'],\n",
       "             datetime.date(2020, 4, 2): ['《4/2》\\n（学部生）保健学科在学生の皆様へ（重要事項の連絡・新学期授業開始日）\\nhttps://www.med.tohoku.ac.jp/admissions/2003announce/index.html#cst2'],\n",
       "             datetime.date(2020, 3, 31): ['《3/31》\\n（大学院新入生）入学者ガイダンスの開催方法変更について\\nhttps://www.med.tohoku.ac.jp/admissions/2003announce/index.html#gori2'],\n",
       "             datetime.date(2020, 3, 30): ['《3/30》\\n（学部生）医学科新4年生のみなさまへ（進級時オリエンテーション等について）\\nhttps://www.med.tohoku.ac.jp/admissions/2003announce/index.html#4ori',\n",
       "              '《3/30》\\n（学部生）医学科新3年生のみなさまへ（進級時オリエンテーション等について）\\nhttps://www.med.tohoku.ac.jp/admissions/2003announce/index.html#3ori',\n",
       "              '《3/30》\\n（学部生）医学科新2年生のみなさまへ（進級時オリエンテーション等について）\\nhttps://www.med.tohoku.ac.jp/admissions/2003announce/index.html#2ori'],\n",
       "             datetime.date(2020, 3, 27): ['《3/27》\\n（学部新入生）医学科新入生オリエンテーション日程の再変更について\\nhttps://www.med.tohoku.ac.jp/admissions/2003announce/index.html#mori'],\n",
       "             datetime.date(2020, 3, 24): ['《3/24》\\n（大学院生）在学生のみなさまへ（重要事項の連絡・新学期授業開始日等）\\nhttps://www.med.tohoku.ac.jp/admissions/2003announce/index.html#cgst'],\n",
       "             datetime.date(2020, 3, 18): ['《3/18》\\n（大学院新入生）入学者ガイダンスについて\\nhttps://www.med.tohoku.ac.jp/admissions/2003announce/index.html#gori'],\n",
       "             datetime.date(2020, 3, 17): ['《3/17》\\n（学部新入生）保健学科新入生オリエンテーションの日程変更について\\nhttps://www.med.tohoku.ac.jp/admissions/2003announce/index.html#hori']})"
      ]
     },
     "execution_count": 22,
     "metadata": {},
     "output_type": "execute_result"
    }
   ],
   "source": [
    "med.now"
   ]
  },
  {
   "cell_type": "code",
   "execution_count": 23,
   "metadata": {},
   "outputs": [
    {
     "name": "stdout",
     "output_type": "stream",
     "text": [
      "https://www.med.tohoku.ac.jp/admissions/2003announce/index.html\n",
      "接続中...\n",
      "Done!\n",
      "[<h4 class=\"tit_bg tit_lv-2\"><a id=\"dm\" name=\"dm\"></a>新型コロナウイルス感染症に関する本研究科の対応について-医学系研究科長メッセージ</h4>, <h4 class=\"tit_bg tit_lv-2\"><a id=\"inf\" name=\"inf\"></a>新型コロナウイルス感染の疑いのある症状が出た場合の連絡について（5/1）</h4>, <h4 class=\"tit_bg tit_lv-2\"><a id=\"nt3\" name=\"nt3\"></a>教務課、医学教育推進センター、国際交流支援室の窓口閉鎖期間の延長について（5/7）</h4>, <h4 class=\"tit_bg tit_lv-2\"><a id=\"gnsc4\" name=\"gnsc4\"></a>(大学院生）【重要】今学期の授業実施方法及び履修登録期間の延長について</h4>, <h4 class=\"tit_bg tit_lv-2\"><a id=\"cert\" name=\"cert\"></a>（在学生・卒業生）証明書発行に関するお知らせ（4/24）</h4>, <h4 class=\"tit_bg tit_lv-2\"><a id=\"gnsc3\" name=\"gnsc3\"></a>（大学院生）4月1日からの学籍異動について（4/20）</h4>, <h4 class=\"tit_bg tit_lv-2\"><a id=\"gnsc2\" name=\"gnsc2\"></a>（大学院生）医学系研究科の新学期授業について（4/20）</h4>]\n",
      "前回との変更を抽出中...\n",
      "更新がありました\n",
      "データベースの書き換え中...\n",
      "Done!\n"
     ]
    },
    {
     "data": {
      "text/plain": [
       "defaultdict(list,\n",
       "            {datetime.date(2020, 5, 7): ['《5/7》\\n教務課、医学教育推進センター、国際交流支援室の窓口閉鎖期間の延長について\\nhttps://www.med.tohoku.ac.jp/admissions/2003announce/index.html#nt3'],\n",
       "             datetime.date(2020, 5, 1): ['《5/1》\\n新型コロナウイルス感染の疑いのある症状が出た場合の連絡について\\nhttps://www.med.tohoku.ac.jp/admissions/2003announce/index.html#inf',\n",
       "              '《5/1》\\n(大学院生）【重要】今学期の授業実施方法及び履修登録期間の延長について\\nhttps://www.med.tohoku.ac.jp/admissions/2003announce/index.html#gnsc4'],\n",
       "             datetime.date(2020, 4, 24): ['《4/24》\\n（在学生・卒業生）証明書発行に関するお知らせ\\nhttps://www.med.tohoku.ac.jp/admissions/2003announce/index.html#cert'],\n",
       "             datetime.date(2020, 4, 20): ['《4/20》\\n（大学院生）4月1日からの学籍異動について\\nhttps://www.med.tohoku.ac.jp/admissions/2003announce/index.html#gnsc3',\n",
       "              '《4/20》\\n（大学院生）医学系研究科の新学期授業について\\nhttps://www.med.tohoku.ac.jp/admissions/2003announce/index.html#gnsc2'],\n",
       "             datetime.date(2020, 4, 10): ['《4/10》\\n新型コロナウイルス感染症に関する本研究科の対応について-医学系研究科長メッセージ\\nhttps://www.med.tohoku.ac.jp/admissions/2003announce/index.html#dm']})"
      ]
     },
     "execution_count": 23,
     "metadata": {},
     "output_type": "execute_result"
    }
   ],
   "source": [
    "med.new"
   ]
  },
  {
   "cell_type": "markdown",
   "metadata": {},
   "source": []
  }
 ],
 "metadata": {
  "kernelspec": {
   "display_name": "Python 3",
   "language": "python",
   "name": "python3"
  },
  "language_info": {
   "codemirror_mode": {
    "name": "ipython",
    "version": 3
   },
   "file_extension": ".py",
   "mimetype": "text/x-python",
   "name": "python",
   "nbconvert_exporter": "python",
   "pygments_lexer": "ipython3",
   "version": "3.7.0"
  }
 },
 "nbformat": 4,
 "nbformat_minor": 2
}
