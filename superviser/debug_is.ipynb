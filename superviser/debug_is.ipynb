{
 "cells": [
  {
   "cell_type": "code",
   "execution_count": 1,
   "metadata": {},
   "outputs": [],
   "source": [
    "import os,datetime,re\n",
    "from utils import News, Site"
   ]
  },
  {
   "cell_type": "code",
   "execution_count": 2,
   "metadata": {},
   "outputs": [],
   "source": [
    "\n",
    "### 情報科学研究科 ###\n",
    "class ISNews(News):\n",
    "    def __init__(self, tag, base_url):\n",
    "        '''\n",
    "        <parameter>\n",
    "        tag (bs4.element.Tag) : single topic object\n",
    "        '''\n",
    "        self.tag = tag\n",
    "        self.base_url = base_url\n",
    "        self.summary()\n",
    "\n",
    "    # this should be overrided\n",
    "    # because the format of news will be different from the others\n",
    "    def summary(self):\n",
    "        split_text = self.tag.text.split(\"（\")\n",
    "        time = re.search(\"\\d+.\\d+.\\d+\", split_text[-1]).group()\n",
    "        contents = \"（\".join(split_text[:-1])\n",
    "        href = self.tag.get(\"href\")\n",
    "        if href[0:4] != \"http\":\n",
    "            href = self.base_url + href\n",
    "        self.content = f\"《{time}》\\n{contents}\\n{href}\"\n",
    "        self.time = self.timeobj(time)\n",
    "\n",
    "    def timeobj(self, timestr=\"\"):\n",
    "        tmp = datetime.datetime.strptime(timestr, \"%Y.%m.%d\")\n",
    "        return datetime.date(tmp.year, tmp.month, tmp.day)\n",
    "\n",
    "\n",
    "class IS(Site):\n",
    "    path = os.path.join(\"..\", os.path.join(\"sites_db\", \"is.pickle\"))\n",
    "    url = \"https://www.is.tohoku.ac.jp/jp/forstudents/detail---id-2986.html\"\n",
    "    base_url = \"https://www.is.tohoku.ac.jp/\"\n",
    "    majors = [\"情報科学研究科\"]\n",
    "\n",
    "    def get(self):\n",
    "        soup = self.request()\n",
    "        # 以降、サイトに合わせて書き直す必要あり\n",
    "        info_list = []\n",
    "        boxes = soup.find_all(\"ul\", class_=\"border\")\n",
    "        for box in boxes:\n",
    "            info_list.extend(box.find_all(\"a\"))\n",
    "        info_list = [ISNews(info, self.base_url) for info in info_list[:-1]]\n",
    "        return self.dic(info_list)\n"
   ]
  },
  {
   "cell_type": "code",
   "execution_count": 3,
   "metadata": {},
   "outputs": [
    {
     "name": "stdout",
     "output_type": "stream",
     "text": [
      "データベースを読み込み中...\n",
      "Done!\n"
     ]
    }
   ],
   "source": [
    "is_ = IS()"
   ]
  },
  {
   "cell_type": "code",
   "execution_count": 4,
   "metadata": {},
   "outputs": [
    {
     "data": {
      "text/plain": [
       "defaultdict(list,\n",
       "            {datetime.date(2020, 4, 9): ['《2020.4.9》\\n情報科学研究科の学生のみなさんへ\\nhttps://www.is.tohoku.ac.jp/media/files/_u/topic/file3/notificaton200409.pdf'],\n",
       "             datetime.date(2020, 4, 8): ['《2020.4.8》\\n学生証等の送付先住所及びその他資料の配付について\\nhttps://www.is.tohoku.ac.jp/media/files/_u/topic/file5/studentid200408_v2.pdf'],\n",
       "             datetime.date(2020, 4, 3): ['《2020.4.3》\\n学生証、東北大ID通知書、入学許可書の配付方法変更について\\nhttps://www.is.tohoku.ac.jp/media/files/_u/topic/file4/studentid200403_v2.pdf'],\n",
       "             datetime.date(2020, 3, 30): ['《2020.3.30》\\n令和2年度入学・進学・編入学者等オリエンテーションの開催中止について\\nhttps://www.is.tohoku.ac.jp//media/files/_u/topic/file/orientation200330.pdf',\n",
       "              '《2020.3.30》\\n当面の課外活動について\\nhttps://www.is.tohoku.ac.jp/media/files/_u/topic/file1/kagai200403.pdf',\n",
       "              '《2020.3.30》\\n青葉山体育施設（体育館、グラウンド、トレーニングルーム）をご利用の皆様へ\\nhttps://www.is.tohoku.ac.jp/media/files/_u/topic/file2/gym200403.pdf'],\n",
       "             datetime.date(2020, 3, 27): ['《2020.3.27》\\n体調管理の徹底・感染拡大防止策の実施について\\nhttps://www.is.tohoku.ac.jp/media/files/_u/topic/file3/kanri200403.pdf']})"
      ]
     },
     "execution_count": 4,
     "metadata": {},
     "output_type": "execute_result"
    }
   ],
   "source": [
    "\n",
    "is_.now"
   ]
  },
  {
   "cell_type": "code",
   "execution_count": 5,
   "metadata": {},
   "outputs": [
    {
     "name": "stdout",
     "output_type": "stream",
     "text": [
      "【情報科学研究科】接続中...\n",
      "Done!\n",
      "前回との変更を抽出中...\n",
      "更新がありました\n",
      "データベースの書き換え中...\n",
      "Done!\n"
     ]
    },
    {
     "data": {
      "text/plain": [
       "defaultdict(list,\n",
       "            {datetime.date(2020, 4, 20): ['《2020.4.20》\\n令和2年度 第1学期開講科目（集中講義を除く）の講義情報について\\nhttps://www.is.tohoku.ac.jp/media/files/_u/event/file/2020_1class_200420.pdf'],\n",
       "             datetime.date(2020, 4, 16): ['《2020.4.16》\\n新入生のみなさんへ（新入生オリエンテーション資料等）\\nhttps://www.is.tohoku.ac.jp/jp/forstudents/detail---id-3073.html'],\n",
       "             datetime.date(2020, 4, 13): ['《2020.4.13》\\n新型コロナウイルス感染拡大防止のためのお願い（レベル3－5に対する情報科学研究科の対応指針：教員向け）\\nhttps://www.is.tohoku.ac.jp/jimu/officework/file/covid19/forstaff_200417.pdf'],\n",
       "             datetime.date(2020, 3, 27): ['《2020.3.27》\\n健康管理の徹底・感染拡大防止策の実施について\\nhttps://www.is.tohoku.ac.jp/media/files/_u/topic/file3/kanri200403.pdf']})"
      ]
     },
     "execution_count": 5,
     "metadata": {},
     "output_type": "execute_result"
    }
   ],
   "source": [
    "is_.new"
   ]
  },
  {
   "cell_type": "code",
   "execution_count": null,
   "metadata": {},
   "outputs": [],
   "source": []
  }
 ],
 "metadata": {
  "kernelspec": {
   "display_name": "Python 3",
   "language": "python",
   "name": "python3"
  },
  "language_info": {
   "codemirror_mode": {
    "name": "ipython",
    "version": 3
   },
   "file_extension": ".py",
   "mimetype": "text/x-python",
   "name": "python",
   "nbconvert_exporter": "python",
   "pygments_lexer": "ipython3",
   "version": "3.7.0"
  }
 },
 "nbformat": 4,
 "nbformat_minor": 2
}
