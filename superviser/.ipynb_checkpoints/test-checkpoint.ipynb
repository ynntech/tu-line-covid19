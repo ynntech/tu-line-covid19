{
 "cells": [
  {
   "cell_type": "code",
   "execution_count": null,
   "metadata": {},
   "outputs": [],
   "source": [
    "\n"
   ]
  },
  {
   "cell_type": "code",
   "execution_count": null,
   "metadata": {},
   "outputs": [],
   "source": []
  },
  {
   "cell_type": "code",
   "execution_count": 5,
   "metadata": {},
   "outputs": [
    {
     "ename": "SyntaxError",
     "evalue": "invalid character in identifier (<ipython-input-5-10aa7422ad2b>, line 50)",
     "output_type": "error",
     "traceback": [
      "\u001b[0;36m  File \u001b[0;32m\"<ipython-input-5-10aa7422ad2b>\"\u001b[0;36m, line \u001b[0;32m50\u001b[0m\n\u001b[0;31m    info_list = self.abstract(info_list)∂\u001b[0m\n\u001b[0m                                        ^\u001b[0m\n\u001b[0;31mSyntaxError\u001b[0m\u001b[0;31m:\u001b[0m invalid character in identifier\n"
     ]
    }
   ],
   "source": [
    "class EngENNews(News):\n",
    "    def __init__(self, tag, base_url):\n",
    "        '''\n",
    "        <parameter>\n",
    "        tag (bs4.element.Tag) : single topic object\n",
    "        '''\n",
    "        self.tag = tag\n",
    "        self.base_url = base_url\n",
    "        self.summary()\n",
    "\n",
    "    # this should be overrided\n",
    "    # because the format of news will be different from the others\n",
    "    def summary(self):\n",
    "        time_tag = self.tag.find_next(\"th\")\n",
    "        time_split = time_tag.text.split(\"/\")\n",
    "        print(f\"time_split is {time_split}\")\n",
    "\n",
    "        # time = \"{}/{}/{}\".format(time_split[0], re.search(\n",
    "        #     r'\\d+', (time_split[1])).group())\n",
    "        time = \"{}/{}/{}\".format(time_split[0], time_split[1], time_split[2])\n",
    "        a_tag = self.tag.find(\"a\")\n",
    "        if a_tag is not None:\n",
    "            href = a_tag.get(\"href\")\n",
    "            if href[0:4] != \"http\":\n",
    "                href = self.base_url + href\n",
    "            self.content = f\"《{time}》\\n{a_tag.text}\\n{href}\"\n",
    "        else:\n",
    "            content = \"\\n\".join(time_tag.find_next(\"th\").text.split())\n",
    "            url = \"https://www.eng.tohoku.ac.jp/english/news/news4/\"\n",
    "            self.content = f\"《{time}》\\n{content}\\n{url}\"\n",
    "        self.time = self.timeobj(time)\n",
    "\n",
    "    def timeobj(self, timestr=\"\"):\n",
    "        year = \"2020/\"\n",
    "        tmp = datetime.datetime.strptime(year + timestr, \"%Y/%m/%d\")\n",
    "        return datetime.date(tmp.year, tmp.month, tmp.day)\n",
    "\n",
    "\n",
    "class EngEN(Site):\n",
    "    path = os.path.join(\"..\", os.path.join(\"sites_db\", \"eng.pickle\"))\n",
    "    url = \"https://www.eng.tohoku.ac.jp/english/news/news4/\"\n",
    "    base_url = \"https://www.eng.tohoku.ac.jp/english\"\n",
    "    majors = [\"School of Engineering\", \"Graduate School of Engineering\"]\n",
    "\n",
    "    def get(self):\n",
    "        soup = self.request()\n",
    "        # 以降、サイトに合わせて書き直す必要あり\n",
    "        info_list = soup.find(class_=\"table nt news\").find_all(\"tr\")\n",
    "        print(f\"info_list is {info_list}\")\n",
    "        info_list = self.abstract(info_list)\n",
    "\n",
    "        info_list = [EngENNews(info, self.base_url) for info in info_list]\n",
    "        return self.dic(info_list)\n",
    "\n",
    "    def abstract(self, tags=[]):\n",
    "        result = []\n",
    "        exception = []\n",
    "        for tag in tags:\n",
    "            if tag.text not in exception:\n",
    "                result.append(tag)\n",
    "                exception.append(tag.text)\n",
    "        return result\n"
   ]
  },
  {
   "cell_type": "code",
   "execution_count": 2,
   "metadata": {},
   "outputs": [
    {
     "name": "stdout",
     "output_type": "stream",
     "text": [
      "データベースを読み込み中...\n",
      "Done!\n"
     ]
    }
   ],
   "source": [
    "engen = EngEN()"
   ]
  },
  {
   "cell_type": "code",
   "execution_count": 3,
   "metadata": {},
   "outputs": [
    {
     "name": "stdout",
     "output_type": "stream",
     "text": [
      "【School of Engineering】接続中...\n",
      "Done!\n",
      "info_list is [<tr>\n",
      "<th class=\"\">2020/04/14</th>\n",
      "<td><span class=\"\"></span><a class=\"category-4\" href=\"english/news/news4/detail-,-id,1579.html\">TO THE INTERNATIONAL STUDENTS：Important Notice about COVID-19</a></td>\n",
      "</tr>, <tr>\n",
      "<th class=\"\">2020/04/10</th>\n",
      "<td><span class=\"\"></span><a class=\"category-4\" href=\"english/news/news4/detail-,-id,1589.html\">Tohoku University ID Receipt Confirmation (for new students) and Survey on Remote Learning Environment, etc.</a></td>\n",
      "</tr>, <tr>\n",
      "<th class=\"\">2020/04/09</th>\n",
      "<td><span class=\"\"></span><a class=\"category-4\" href=\"/driving_force/english/vol23.html\">Driving Force #23 is now available.【Ibuki Masuda, Junior, Department of Materials Science and Engineering School of Engineering】</a></td>\n",
      "</tr>, <tr>\n",
      "<th class=\"\">2020/03/04</th>\n",
      "<td><span class=\"\"></span><a class=\"category-4\" href=\"/driving_force/english/vol22.html\">Driving Force #22 is now available.【Naomi Shibasaki-Kitakawa, Professor】</a></td>\n",
      "</tr>, <tr>\n",
      "<th class=\"\">2020/02/13</th>\n",
      "<td><span class=\"\"></span><a class=\"category-4\" href=\"media/files/_u/topic/file/6kiu1ml8c.pdf\">Notice to Examinee: Response to Novel Coronavirus Pneumonia for the entrance examination</a></td>\n",
      "</tr>, <tr>\n",
      "<th class=\"\">2020/02/03</th>\n",
      "<td><span class=\"\"></span><a class=\"category-4\" href=\"http://m-dimension.tohoku.ac.jp/eng/\">MD program Application Guideline 2020 Spring is available.</a></td>\n",
      "</tr>, <tr>\n",
      "<th class=\"\">2020/01/24</th>\n",
      "<td><span class=\"\"></span><a class=\"category-4\" href=\"/driving_force/english/vol21.html\">Driving Force #21 is now available.【Takuma Kudou, P SOFTHOUSE Co., Ltd.】</a></td>\n",
      "</tr>, <tr>\n",
      "<th class=\"\">2020/01/14</th>\n",
      "<td><span class=\"\"></span><a class=\"category-4\" href=\"http://www.cies.tohoku.ac.jp/english/news/article.html?news_id=297\">In the Forum of 2020 International Solid-State Circuits Conference (ISSCC2020), Director, Tetsuo Endoh (CIES) will give a talk.</a></td>\n",
      "</tr>, <tr>\n",
      "<th class=\"\">2019/12/25</th>\n",
      "<td><span class=\"\"></span><a class=\"category-4\" href=\"http://www.cies.tohoku.ac.jp/english/news/article.html?news_id=299\">CIES Seminar (Lecturer: Dr. Satoru Araki, Spin Memory) will be held.</a></td>\n",
      "</tr>, <tr>\n",
      "<th class=\"\">2019/12/16</th>\n",
      "<td><span class=\"\"></span><a class=\"category-4\" href=\"http://m-dimension.tohoku.ac.jp/eng/\">Interdepartmental Doctoral Degree Program for Multi-dimensional Materials Science Leaders (MD Program) Admission Event for Spring 2020</a></td>\n",
      "</tr>, <tr>\n",
      "<th class=\"\">2019/11/13</th>\n",
      "<td><span class=\"\"></span><a class=\"category-4\" href=\"https://www.tohoku.ac.jp/en/news/university_news/specially_invited_professor.html\">Masato Sagawa Appointed Specially Invited Professor</a></td>\n",
      "</tr>, <tr>\n",
      "<th class=\"\">2019/08/06</th>\n",
      "<td><span class=\"\"></span><a class=\"category-4\" href=\"https://www.tohoku.ac.jp/en/press/observing_ultrathin_mgo_chemical_bonding_states.html\">Accelerating Development of STT-MRAM: Observing Ultrathin MgO Chemical Bonding States</a></td>\n",
      "</tr>, <tr>\n",
      "<th class=\"\">2019/07/22</th>\n",
      "<td><span class=\"\"></span><a class=\"category-4\" href=\"https://www.tohoku.ac.jp/en/news/university_news/power_spin_incorporated.html\">Tohoku University Establishes Power Spin Incorporated</a></td>\n",
      "</tr>, <tr>\n",
      "<th class=\"\">2019/06/17</th>\n",
      "<td><span class=\"\"></span><a class=\"category-4\" href=\"https://www.tohoku.ac.jp/en/press/durable_mtj_1xnm_technology.html\">Development of Durable MTJ Under Harsh Environment for STT-MRAM at 1Xnm Technology Node</a></td>\n",
      "</tr>, <tr>\n",
      "<th class=\"\">2019/05/24</th>\n",
      "<td><span class=\"\"></span><a class=\"category-4\" href=\"/driving_force/english/vol20-2.html\">Driving Force #20 part.2 is now available.【Akiyuki Tanizawa, Toshiba Corporation】</a></td>\n",
      "</tr>, <tr>\n",
      "<th class=\"\">2019/05/21</th>\n",
      "<td><span class=\"\"></span><a class=\"category-4\" href=\"http://www.cies.tohoku.ac.jp/english/news/article.html?news_id=257\">2019 Spintronics Workshop on LSI will be held.</a></td>\n",
      "</tr>, <tr>\n",
      "<th class=\"\">2019/05/10</th>\n",
      "<td><span class=\"\"></span><a class=\"category-4\" href=\"/driving_force/english/vol20-1.html\">Driving Force #20 part.1 is now available.【Akiyuki Tanizawa, Toshiba Corporation】</a></td>\n",
      "</tr>, <tr>\n",
      "<th class=\"\">2019/04/19</th>\n",
      "<td><span class=\"\"></span><a class=\"category-4\" href=\"/driving_force/english/vol19-2.html\">Driving Force #19 part.2 is now available.【Fumio Kajiwara Chairman, UDS Ltd.】</a></td>\n",
      "</tr>, <tr>\n",
      "<th class=\"\">2019/04/15</th>\n",
      "<td><span class=\"\"></span><a class=\"category-4\" href=\"english/news/news4/detail-,-id,1339.html\">10th Aobayama Concert</a></td>\n",
      "</tr>, <tr>\n",
      "<th class=\"\">2019/04/03</th>\n",
      "<td><span class=\"\"></span><a class=\"category-4\" href=\"/driving_force/english/vol19-1.html\">Driving Force #19 part.1 is now available.【Fumio Kajiwara Chairman, UDS Ltd.】</a></td>\n",
      "</tr>]\n"
     ]
    },
    {
     "ename": "NameError",
     "evalue": "name 'EngNews' is not defined",
     "output_type": "error",
     "traceback": [
      "\u001b[0;31m---------------------------------------------------------------------------\u001b[0m",
      "\u001b[0;31mNameError\u001b[0m                                 Traceback (most recent call last)",
      "\u001b[0;32m<ipython-input-3-e3111ce36c82>\u001b[0m in \u001b[0;36m<module>\u001b[0;34m\u001b[0m\n\u001b[0;32m----> 1\u001b[0;31m \u001b[0mengen\u001b[0m\u001b[0;34m.\u001b[0m\u001b[0mupdate\u001b[0m\u001b[0;34m(\u001b[0m\u001b[0;34m)\u001b[0m\u001b[0;34m\u001b[0m\u001b[0m\n\u001b[0m",
      "\u001b[0;32m~/Desktop/tu-line-covid19/superviser/utils.py\u001b[0m in \u001b[0;36mupdate\u001b[0;34m(self)\u001b[0m\n\u001b[1;32m     66\u001b[0m     \u001b[0;32mdef\u001b[0m \u001b[0mupdate\u001b[0m\u001b[0;34m(\u001b[0m\u001b[0mself\u001b[0m\u001b[0;34m)\u001b[0m\u001b[0;34m:\u001b[0m\u001b[0;34m\u001b[0m\u001b[0m\n\u001b[1;32m     67\u001b[0m         \u001b[0mpre\u001b[0m \u001b[0;34m=\u001b[0m \u001b[0mself\u001b[0m\u001b[0;34m.\u001b[0m\u001b[0mdata\u001b[0m\u001b[0;34m.\u001b[0m\u001b[0mcopy\u001b[0m\u001b[0;34m(\u001b[0m\u001b[0;34m)\u001b[0m\u001b[0;34m\u001b[0m\u001b[0m\n\u001b[0;32m---> 68\u001b[0;31m         \u001b[0mpost\u001b[0m \u001b[0;34m=\u001b[0m \u001b[0mself\u001b[0m\u001b[0;34m.\u001b[0m\u001b[0mget\u001b[0m\u001b[0;34m(\u001b[0m\u001b[0;34m)\u001b[0m\u001b[0;34m\u001b[0m\u001b[0m\n\u001b[0m\u001b[1;32m     69\u001b[0m         \u001b[0mdiff\u001b[0m \u001b[0;34m=\u001b[0m \u001b[0mself\u001b[0m\u001b[0;34m.\u001b[0m\u001b[0mdiff\u001b[0m\u001b[0;34m(\u001b[0m\u001b[0mpre\u001b[0m\u001b[0;34m,\u001b[0m \u001b[0mpost\u001b[0m\u001b[0;34m)\u001b[0m\u001b[0;34m\u001b[0m\u001b[0m\n\u001b[1;32m     70\u001b[0m         \u001b[0mself\u001b[0m\u001b[0;34m.\u001b[0m\u001b[0mdata\u001b[0m \u001b[0;34m=\u001b[0m \u001b[0mpost\u001b[0m\u001b[0;34m\u001b[0m\u001b[0m\n",
      "\u001b[0;32m~/Desktop/tu-line-covid19/superviser/sites.py\u001b[0m in \u001b[0;36mget\u001b[0;34m(self)\u001b[0m\n\u001b[1;32m    512\u001b[0m         \u001b[0minfo_list\u001b[0m \u001b[0;34m=\u001b[0m \u001b[0mself\u001b[0m\u001b[0;34m.\u001b[0m\u001b[0mabstract\u001b[0m\u001b[0;34m(\u001b[0m\u001b[0minfo_list\u001b[0m\u001b[0;34m)\u001b[0m\u001b[0;34m\u001b[0m\u001b[0m\n\u001b[1;32m    513\u001b[0m \u001b[0;34m\u001b[0m\u001b[0m\n\u001b[0;32m--> 514\u001b[0;31m         \u001b[0minfo_list\u001b[0m \u001b[0;34m=\u001b[0m \u001b[0;34m[\u001b[0m\u001b[0mEngNews\u001b[0m\u001b[0;34m(\u001b[0m\u001b[0minfo\u001b[0m\u001b[0;34m,\u001b[0m \u001b[0mself\u001b[0m\u001b[0;34m.\u001b[0m\u001b[0mbase_url\u001b[0m\u001b[0;34m)\u001b[0m \u001b[0;32mfor\u001b[0m \u001b[0minfo\u001b[0m \u001b[0;32min\u001b[0m \u001b[0minfo_list\u001b[0m\u001b[0;34m]\u001b[0m\u001b[0;34m\u001b[0m\u001b[0m\n\u001b[0m\u001b[1;32m    515\u001b[0m         \u001b[0;32mreturn\u001b[0m \u001b[0mself\u001b[0m\u001b[0;34m.\u001b[0m\u001b[0mdic\u001b[0m\u001b[0;34m(\u001b[0m\u001b[0minfo_list\u001b[0m\u001b[0;34m)\u001b[0m\u001b[0;34m\u001b[0m\u001b[0m\n\u001b[1;32m    516\u001b[0m \u001b[0;34m\u001b[0m\u001b[0m\n",
      "\u001b[0;32m~/Desktop/tu-line-covid19/superviser/sites.py\u001b[0m in \u001b[0;36m<listcomp>\u001b[0;34m(.0)\u001b[0m\n\u001b[1;32m    512\u001b[0m         \u001b[0minfo_list\u001b[0m \u001b[0;34m=\u001b[0m \u001b[0mself\u001b[0m\u001b[0;34m.\u001b[0m\u001b[0mabstract\u001b[0m\u001b[0;34m(\u001b[0m\u001b[0minfo_list\u001b[0m\u001b[0;34m)\u001b[0m\u001b[0;34m\u001b[0m\u001b[0m\n\u001b[1;32m    513\u001b[0m \u001b[0;34m\u001b[0m\u001b[0m\n\u001b[0;32m--> 514\u001b[0;31m         \u001b[0minfo_list\u001b[0m \u001b[0;34m=\u001b[0m \u001b[0;34m[\u001b[0m\u001b[0mEngNews\u001b[0m\u001b[0;34m(\u001b[0m\u001b[0minfo\u001b[0m\u001b[0;34m,\u001b[0m \u001b[0mself\u001b[0m\u001b[0;34m.\u001b[0m\u001b[0mbase_url\u001b[0m\u001b[0;34m)\u001b[0m \u001b[0;32mfor\u001b[0m \u001b[0minfo\u001b[0m \u001b[0;32min\u001b[0m \u001b[0minfo_list\u001b[0m\u001b[0;34m]\u001b[0m\u001b[0;34m\u001b[0m\u001b[0m\n\u001b[0m\u001b[1;32m    515\u001b[0m         \u001b[0;32mreturn\u001b[0m \u001b[0mself\u001b[0m\u001b[0;34m.\u001b[0m\u001b[0mdic\u001b[0m\u001b[0;34m(\u001b[0m\u001b[0minfo_list\u001b[0m\u001b[0;34m)\u001b[0m\u001b[0;34m\u001b[0m\u001b[0m\n\u001b[1;32m    516\u001b[0m \u001b[0;34m\u001b[0m\u001b[0m\n",
      "\u001b[0;31mNameError\u001b[0m: name 'EngNews' is not defined"
     ]
    }
   ],
   "source": [
    "engen.update()"
   ]
  },
  {
   "cell_type": "code",
   "execution_count": null,
   "metadata": {},
   "outputs": [],
   "source": [
    "engen.now"
   ]
  },
  {
   "cell_type": "code",
   "execution_count": null,
   "metadata": {},
   "outputs": [],
   "source": [
    "engen.new"
   ]
  },
  {
   "cell_type": "code",
   "execution_count": null,
   "metadata": {},
   "outputs": [],
   "source": [
    "from sites import Eng\n",
    "eng = Eng()"
   ]
  },
  {
   "cell_type": "code",
   "execution_count": null,
   "metadata": {},
   "outputs": [],
   "source": [
    "engen.now"
   ]
  },
  {
   "cell_type": "code",
   "execution_count": null,
   "metadata": {},
   "outputs": [],
   "source": [
    "eng.new"
   ]
  },
  {
   "cell_type": "code",
   "execution_count": null,
   "metadata": {},
   "outputs": [],
   "source": []
  }
 ],
 "metadata": {
  "kernelspec": {
   "display_name": "Python 3",
   "language": "python",
   "name": "python3"
  },
  "language_info": {
   "codemirror_mode": {
    "name": "ipython",
    "version": 3
   },
   "file_extension": ".py",
   "mimetype": "text/x-python",
   "name": "python",
   "nbconvert_exporter": "python",
   "pygments_lexer": "ipython3",
   "version": "3.7.0"
  }
 },
 "nbformat": 4,
 "nbformat_minor": 2
}
