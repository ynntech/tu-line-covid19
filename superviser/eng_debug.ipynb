{
 "cells": [
  {
   "cell_type": "code",
   "execution_count": 1,
   "metadata": {},
   "outputs": [],
   "source": [
    "import os,datetime,re\n",
    "from utils import News, Site"
   ]
  },
  {
   "cell_type": "code",
   "execution_count": 5,
   "metadata": {},
   "outputs": [],
   "source": [
    "### 工学部・工学研究科 ###\n",
    "class EngNews(News):\n",
    "    def __init__(self, tag, base_url):\n",
    "        self.tag = tag\n",
    "        self.base_url = base_url\n",
    "        self.summary()\n",
    "    def summary(self):\n",
    "        time_tag = self.tag.find_next(\"td\")\n",
    "        time_split = time_tag.text.split(\".\")\n",
    "        print(f\"time_split is {time_split}\")\n",
    "\n",
    "        time = \"{}.{}\".format(time_split[0], re.search(r'\\d+', (time_split[1])).group())\n",
    "        a_tag = self.tag.find(\"a\")\n",
    "        if a_tag is not None:\n",
    "            href = a_tag.get(\"href\")\n",
    "            if href[0:4] != \"http\":\n",
    "                href = self.base_url + href\n",
    "            self.content = f\"《{time}》\\n{a_tag.text}\\n{href}\"\n",
    "        else:\n",
    "            content = \"\\n\".join(time_tag.find_next(\"td\").text.split())\n",
    "            url = \"https://www.eng.tohoku.ac.jp/news/detail-,-id,1561.html\"\n",
    "            self.content = f\"《{time}》\\n{content}\\n{url}\"\n",
    "        self.time = self.timeobj(time)\n",
    "\n",
    "    def timeobj(self, timestr=\"\"):\n",
    "        year = \"2020.\"\n",
    "        tmp = datetime.datetime.strptime(year + timestr, \"%Y.%m.%d\")\n",
    "        return datetime.date(tmp.year, tmp.month, tmp.day)\n",
    "\n",
    "\n",
    "class Eng(Site):\n",
    "    path = os.path.join(\"..\", os.path.join(\"sites_db\", \"eng.pickle\"))\n",
    "    url = \"https://www.eng.tohoku.ac.jp/news/detail-,-id,1561.html\"\n",
    "    base_url = \"https://www.eng.tohoku.ac.jp\"\n",
    "    majors = [\"工学部\", \"工学研究科\"]\n",
    "    \n",
    "    def get(self):\n",
    "        soup = self.request()\n",
    "        # 以降、サイトに合わせて書き直す必要あり\n",
    "        info_list = soup.find(id=\"main\").find_all(\"tr\")[1:]\n",
    "        info_list = self.abstract(info_list)\n",
    "\n",
    "        # 固定情報\n",
    "        stick1 = EngNews(info_list[0], self.base_url)\n",
    "        contents = [\"《4/10》\",\n",
    "                    \"【新型コロナウイルス感染拡大防止のための自宅待機のお願い】\",\n",
    "                    \"令和2年4月9日(木)から5月6日(水)まで、原則として登校を禁止し、研究室活動を制限します\",\n",
    "                    \"https://www.eng.tohoku.ac.jp/news/detail-,-id,1582.html\",\n",
    "                    \"https://www.eng.tohoku.ac.jp/news/detail-,-id,1581.html\"]\n",
    "        stick1.time = stick1.timeobj(timestr=\"4.10\")\n",
    "        stick1.content = \"\\n\".join(contents)\n",
    "\n",
    "        stick2 = EngNews(info_list[0], self.base_url)\n",
    "        contents = [\"《4/10》\",\n",
    "                    \"【全学生 要回答】東北大ID受取確認(新入生対象), 遠隔授業の受講環境等の調査を実施しています。\",\n",
    "                    \"https://www.eng.tohoku.ac.jp/news/detail-,-id,1576.html#survey\"]\n",
    "        stick2.time = stick1.timeobj(timestr=\"4.10\")\n",
    "        stick2.content = \"\\n\".join(contents)\n",
    "        sticks = [stick1, stick2]\n",
    "\n",
    "        info_list = [EngNews(info, self.base_url) for info in info_list]\n",
    "        info_list = sticks + info_list\n",
    "        return self.dic(info_list)\n",
    "\n",
    "    def abstract(self, tags=[]):\n",
    "        result = []\n",
    "        exception = []\n",
    "        for tag in tags:\n",
    "            if tag.text not in exception:\n",
    "                result.append(tag)\n",
    "                exception.append(tag.text)\n",
    "        return result"
   ]
  },
  {
   "cell_type": "code",
   "execution_count": 6,
   "metadata": {},
   "outputs": [
    {
     "name": "stdout",
     "output_type": "stream",
     "text": [
      "データベースを読み込み中...\n",
      "Done!\n"
     ]
    }
   ],
   "source": [
    "eng = Eng()"
   ]
  },
  {
   "cell_type": "code",
   "execution_count": 7,
   "metadata": {},
   "outputs": [
    {
     "name": "stdout",
     "output_type": "stream",
     "text": [
      "https://www.eng.tohoku.ac.jp/news/detail-,-id,1561.html\n",
      "接続中...\n",
      "Done!\n",
      "time_split is ['4', '24 更新']\n",
      "time_split is ['4', '24 更新']\n",
      "time_split is ['4', '24 更新']\n",
      "time_split is ['4', '19 更新']\n",
      "time_split is ['4', '16 更新']\n",
      "time_split is ['4', '13 更新']\n",
      "time_split is ['4', '10 更新']\n",
      "time_split is ['4', ' 8 更新']\n",
      "time_split is ['4', ' 7 更新']\n",
      "time_split is ['4', '24 更新']\n",
      "time_split is ['4', '20 更新']\n",
      "time_split is ['4', '10 更新']\n",
      "time_split is ['4', ' 9 更新']\n",
      "time_split is ['4', '28 更新']\n",
      "time_split is ['4', '21 更新']\n",
      "time_split is ['4', '13 更新']\n",
      "time_split is ['4', ' 9 更新']\n",
      "time_split is ['3', '23 更新']\n",
      "time_split is ['4', '14 更新']\n",
      "time_split is ['4', '21 更新']\n",
      "前回との変更を抽出中...\n",
      "更新がありました\n",
      "データベースの書き換え中...\n",
      "Done!\n"
     ]
    },
    {
     "data": {
      "text/plain": [
       "defaultdict(list,\n",
       "            {datetime.date(2020, 4, 28): ['《4.28》\\n健康管理の徹底・感染拡大防止について\\nhttps://www.eng.tohoku.ac.jp/media/files/_u/topic/others/20200428_covid19.pdf'],\n",
       "             datetime.date(2020, 4, 24): ['《4.24》\\n授業の実施方法について\\nhttps://www.eng.tohoku.ac.jp/news/detail-,-id,1576.html',\n",
       "              '《4.24》\\n食堂・店舗の利用制限について\\nhttps://www.eng.tohoku.ac.jp/news/detail-,-id,1594.html'],\n",
       "             datetime.date(2020, 4, 21): ['《4.21》\\n2020 年度定期健康診断延期のお知らせ\\nhttps://www.eng.tohoku.ac.jp/media/files/_u/topic/file1/18otxpqlkz.pdf',\n",
       "              '《4.21》\\n2020\\n年度定期健康診断延期のお知らせ\\n「大学生の心身の健康に関する調査」について\\nhttps://www.eng.tohoku.ac.jp/news/detail-,-id,1561.html'],\n",
       "             datetime.date(2020, 4, 20): ['《4.20》\\n青葉山体育施設（体育館、グラウンド、トレーニングルーム）閉鎖\\nhttps://www.eng.tohoku.ac.jp/media/files/_u/topic/file2/hgy9abmgl.pdf'],\n",
       "             datetime.date(2020, 4, 19): ['《4.19》\\n工学部・工学研究科生の遠隔授業の受け方について\\nhttps://www.eng.tohoku.ac.jp/news/detail-,-id,1595.html'],\n",
       "             datetime.date(2020, 4, 16): ['《4.16》\\n新入生のみなさまへ（学事日程等の変更）\\nhttps://www.tohoku.ac.jp/japanese/2020/04/news20200414-03.html'],\n",
       "             datetime.date(2020, 4, 14): ['《4.14》\\n学生相談体制について\\nhttps://www.eng.tohoku.ac.jp/v-student/common/counseling.html'],\n",
       "             datetime.date(2020, 4, 13): ['《4.13》\\n新入生オリエンテーション・工学部３年次編入学者向け 学科別履修ガイダンスのご案内\\nhttps://www.eng.tohoku.ac.jp/news/detail-,-id,1590.html',\n",
       "              '《4.13》\\n学部2～4年次学科別履修ガイダンス\\nhttps://www.eng.tohoku.ac.jp/media/files/_u/topic/file5/1p7tu60k26.pdf'],\n",
       "             datetime.date(2020, 4, 10): ['《4/10》\\n【新型コロナウイルス感染拡大防止のための自宅待機のお願い】\\n令和2年4月9日(木)から5月6日(水)まで、原則として登校を禁止し、研究室活動を制限します\\nhttps://www.eng.tohoku.ac.jp/news/detail-,-id,1582.html\\nhttps://www.eng.tohoku.ac.jp/news/detail-,-id,1581.html',\n",
       "              '《4/10》\\n【全学生 要回答】東北大ID受取確認(新入生対象), 遠隔授業の受講環境等の調査を実施しています。\\nhttps://www.eng.tohoku.ac.jp/news/detail-,-id,1576.html#survey',\n",
       "              '《4.10》\\n2020年新学期教科書販売について\\nhttps://www.tohoku.u-coop.or.jp/home/info/5975/',\n",
       "              '《4.10》\\n附属図書館本館・分館、部局図書室の全面休館について\\nhttp://www.library.tohoku.ac.jp/news/2019/covid19.html'],\n",
       "             datetime.date(2020, 4, 8): ['《4.8》\\n学部入学時資料の配付について\\nhttps://www.eng.tohoku.ac.jp/news/detail-,-id,1578.html'],\n",
       "             datetime.date(2020, 4, 7): ['《4.7》\\n【AO入試Ⅱ期合格者】入学前教育（数物演習）試験は中止となりました。\\n・上記受験を予定していた学生も、忘れずに通常どおり履修登録を行い授業を受けてください\\nhttps://www.eng.tohoku.ac.jp/news/detail-,-id,1561.html']})"
      ]
     },
     "execution_count": 7,
     "metadata": {},
     "output_type": "execute_result"
    }
   ],
   "source": [
    "eng.new"
   ]
  },
  {
   "cell_type": "code",
   "execution_count": null,
   "metadata": {},
   "outputs": [],
   "source": []
  }
 ],
 "metadata": {
  "kernelspec": {
   "display_name": "Python 3",
   "language": "python",
   "name": "python3"
  },
  "language_info": {
   "codemirror_mode": {
    "name": "ipython",
    "version": 3
   },
   "file_extension": ".py",
   "mimetype": "text/x-python",
   "name": "python",
   "nbconvert_exporter": "python",
   "pygments_lexer": "ipython3",
   "version": "3.7.0"
  }
 },
 "nbformat": 4,
 "nbformat_minor": 2
}
