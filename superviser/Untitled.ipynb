{
 "cells": [
  {
   "cell_type": "code",
   "execution_count": 1,
   "metadata": {},
   "outputs": [],
   "source": [
    "import os,datetime,re\n",
    "from utils import News, Site"
   ]
  },
  {
   "cell_type": "code",
   "execution_count": null,
   "metadata": {},
   "outputs": [],
   "source": [
    "### 薬学部・薬学研究科 ###\n",
    "class GLCNews(News):\n",
    "    # this should be overrided\n",
    "    # because the format of news will be different from the others\n",
    "    def summary(self):\n",
    "        time = re.search(\"\\d+/\\d+\", self.tag.text).group()\n",
    "        contents = self.tag.text.split(time)[-1].split()[-1]\n",
    "        href = self.tag.get(\"href\")\n",
    "        self.content = f\"《{time}》\\n{contents}\\n{href}\"\n",
    "        self.time = self.timeobj(time)\n",
    "\n",
    "    def timeobj(self, timestr=\"\"):\n",
    "        year = \"2020/\"\n",
    "        tmp = datetime.datetime.strptime(year + timestr, \"%Y/%m/%d\")\n",
    "        return datetime.date(tmp.year, tmp.month, tmp.day)\n",
    "\n",
    "\n",
    "class GLC(Site):\n",
    "    path = os.path.join(\"..\", os.path.join(\"sites_db\", \"pharm.pickle\"))\n",
    "    url = \"https://www.insc.tohoku.ac.jp/english/news/othernews/\"\n",
    "    majors = [\"english\", \"english\"]\n",
    "\n",
    "    def get(self):\n",
    "        soup = self.request()\n",
    "        # 以降、サイトに合わせて書き直す必要あり\n",
    "        info_list = soup.find(\"div\", class_=\"contents_wrap_box\").find_all(\"a\")\n",
    "        info_list = self.abstract(info_list)\n",
    "        # 固定情報\n",
    "        stick1 = PharmNews(info_list[0])\n",
    "        stick1_url = \"https://www.tohoku.ac.jp/japanese/2020/04/news20200417-00.html\"\n",
    "        stick1.time = stick1.timeobj(timestr=\"4/17\")\n",
    "        stick1.content = f\"《4/17》\\n学生の入構制限について\\n{stick1_url}\"\n",
    "        ###\n",
    "        info_list = [PharmNews(info) for info in info_list]\n",
    "        info_list.append(stick1)\n",
    "        return self.dic(info_list)\n",
    "\n",
    "    def abstract(self, a_tags):\n",
    "        info_list = []\n",
    "        for tag in a_tags:\n",
    "            if tag.text not in  [\"こちら\", \"東北大学新型コロナウイルスBCP対応ガイド\", \"新型コロナウイルス感染の疑いのある症状が出た場合の連絡\",\n",
    "                                \"https://www.tohoku.ac.jp/japanese/2020/04/news20200417-00.html\"]:\n",
    "                href = tag.get(\"href\")\n",
    "                if (href[0:4] == \"http\") and (href.split(\"/\")[2] != \"www.tohoku.ac.jp\"):\n",
    "                    info_list.append(tag)\n",
    "        return info_list\n"
   ]
  }
 ],
 "metadata": {
  "kernelspec": {
   "display_name": "Python 3",
   "language": "python",
   "name": "python3"
  },
  "language_info": {
   "codemirror_mode": {
    "name": "ipython",
    "version": 3
   },
   "file_extension": ".py",
   "mimetype": "text/x-python",
   "name": "python",
   "nbconvert_exporter": "python",
   "pygments_lexer": "ipython3",
   "version": "3.7.0"
  }
 },
 "nbformat": 4,
 "nbformat_minor": 2
}
