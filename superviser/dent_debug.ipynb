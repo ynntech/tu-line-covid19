{
 "cells": [
  {
   "cell_type": "code",
   "execution_count": 1,
   "metadata": {},
   "outputs": [],
   "source": [
    "import os,datetime,re\n",
    "from utils import News, Site"
   ]
  },
  {
   "cell_type": "code",
   "execution_count": 2,
   "metadata": {},
   "outputs": [],
   "source": [
    "\n",
    "### 歯学部・歯学研究科 ###\n",
    "class DentNews(News):\n",
    "    def __init__(self, tag, base_url):\n",
    "        '''\n",
    "        <parameter>\n",
    "        tag (bs4.element.Tag) : single topic object\n",
    "        '''\n",
    "        self.tag = tag\n",
    "        self.base_url = base_url\n",
    "        self.summary()\n",
    "\n",
    "    # this should be overrided\n",
    "    # because the format of news will be different from the others\n",
    "    def summary(self):\n",
    "        contents = self.tag.text\n",
    "        time = re.search(r\"\\d+月\\d+日\", contents).group()\n",
    "        href = self.tag.a.get(\"href\")\n",
    "        if href is None:\n",
    "            href = \"http://www.dent.tohoku.ac.jp/important/202003.html\"\n",
    "        elif href[:2] == \"./\":\n",
    "            href = self.base_url + href[2:]\n",
    "        elif href[0] == \"#\":\n",
    "            href = \"http://www.dent.tohoku.ac.jp/important/202003.html\" + href\n",
    "        self.content = f\"《{time}》\\n{contents.split(time)[-1]}\\n{href}\"\n",
    "        self.time = self.timeobj(time)\n",
    "\n",
    "    def timeobj(self, timestr=\"\"):\n",
    "        year = \"2020年\"\n",
    "        tmp = datetime.datetime.strptime(year + timestr, \"%Y年%m月%d日\")\n",
    "        return datetime.date(tmp.year, tmp.month, tmp.day)\n",
    "\n",
    "\n",
    "class Dent(Site):\n",
    "    path = os.path.join(\"..\", os.path.join(\"sites_db\", \"dent.pickle\"))\n",
    "    url = \"http://www.dent.tohoku.ac.jp/important/202003.html\"\n",
    "    base_url = \"http://www.dent.tohoku.ac.jp/important\"\n",
    "    majors = [\"歯学部\", \"歯学研究科\"]\n",
    "\n",
    "    def get(self):\n",
    "        soup = self.request()\n",
    "        # 以降、サイトに合わせて書き直す必要あり\n",
    "        info_list = soup.find(\"div\", id=\"latest\").find_all(\"li\")\n",
    "        info_list = [DentNews(info, self.base_url)\n",
    "                     for info in self.abstract(info_list)]\n",
    "        return self.dic(info_list)\n",
    "\n",
    "    def abstract(self, tags):\n",
    "        result = []\n",
    "        for tag in tags:\n",
    "            a_tag = tag.find(\"a\")\n",
    "            if a_tag is not None:\n",
    "                href = a_tag.get(\"href\")\n",
    "                if href is None:\n",
    "                    result.append(tag)\n",
    "                elif href[:4] != \"http\":\n",
    "                    result.append(tag)\n",
    "                elif href.split(\"/\")[2] != \"www.tohoku.ac.jp\":\n",
    "                    result.append(tag)\n",
    "        return result\n"
   ]
  },
  {
   "cell_type": "code",
   "execution_count": 3,
   "metadata": {},
   "outputs": [
    {
     "name": "stdout",
     "output_type": "stream",
     "text": [
      "データベースを読み込み中...\n",
      "Done!\n"
     ]
    }
   ],
   "source": [
    "dent = Dent()"
   ]
  },
  {
   "cell_type": "code",
   "execution_count": 5,
   "metadata": {},
   "outputs": [
    {
     "name": "stdout",
     "output_type": "stream",
     "text": [
      "http://www.dent.tohoku.ac.jp/important/202003.html\n",
      "接続中...\n",
      "Done!\n",
      "前回との変更を抽出中...\n",
      "更新がありました\n",
      "データベースの書き換え中...\n",
      "Done!\n"
     ]
    },
    {
     "data": {
      "text/plain": [
       "defaultdict(list,\n",
       "            {datetime.date(2020, 5, 8): ['《5月8日》\\n歯学部専門科目授業開始日一覧表更新 [学部新入生・学部2~5年生]new\\nhttp://www.dent.tohoku.ac.jp/important202003_gakubu_new1.html#class_schedule'],\n",
       "             datetime.date(2020, 5, 7): ['《5月7日》\\nオンライン授業サポート窓口公開new\\nhttp://www.dent.tohoku.ac.jp/importanttech_support.html'],\n",
       "             datetime.date(2020, 5, 1): ['《5月1日》\\n新入生を支援する学生ピアサポーターの募集について(申込期限：個人 5/15・団体 5月末)\\nhttp://www.dent.tohoku.ac.jp/news/view.html#!620'],\n",
       "             datetime.date(2020, 4, 24): ['《4月24日》\\n学生支援体制を追加\\nhttp://www.dent.tohoku.ac.jp/important/202003.html#support'],\n",
       "             datetime.date(2020, 4, 20): ['《4月20日》\\n歯科技工士学校 在学生のみなさまへ 公開\\nhttp://www.dent.tohoku.ac.jp/important202003_gikoushi.html'],\n",
       "             datetime.date(2020, 4, 17): ['《4月17日》\\n報告フォーム追加\\nhttp://www.dent.tohoku.ac.jp/important/202003.html#hokoku_form'],\n",
       "             datetime.date(2020, 4, 14): ['《4月14日》\\n奨学金・経済支援 更新\\nhttp://www.dent.tohoku.ac.jp/important/202003.html#scholarship']})"
      ]
     },
     "execution_count": 5,
     "metadata": {},
     "output_type": "execute_result"
    }
   ],
   "source": [
    "dent.new"
   ]
  },
  {
   "cell_type": "code",
   "execution_count": 15,
   "metadata": {},
   "outputs": [
    {
     "name": "stdout",
     "output_type": "stream",
     "text": [
      "<class 'str'>\n",
      "hello\n"
     ]
    }
   ],
   "source": [
    "def main(*args):\n",
    "    #print((args[2]))\n",
    "    print(type(args[0]))\n",
    "    if type(args[0]) == str:\n",
    "        print(\"hello\")\n",
    "\n",
    "main(\"a\",\"b\",4,1)\n"
   ]
  },
  {
   "cell_type": "code",
   "execution_count": null,
   "metadata": {},
   "outputs": [],
   "source": []
  }
 ],
 "metadata": {
  "kernelspec": {
   "display_name": "Python 3",
   "language": "python",
   "name": "python3"
  },
  "language_info": {
   "codemirror_mode": {
    "name": "ipython",
    "version": 3
   },
   "file_extension": ".py",
   "mimetype": "text/x-python",
   "name": "python",
   "nbconvert_exporter": "python",
   "pygments_lexer": "ipython3",
   "version": "3.7.0"
  }
 },
 "nbformat": 4,
 "nbformat_minor": 2
}
